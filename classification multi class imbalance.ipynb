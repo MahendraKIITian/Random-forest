{
 "cells": [
  {
   "cell_type": "code",
   "execution_count": 34,
   "metadata": {},
   "outputs": [],
   "source": [
    "import numpy as np\n",
    "import pandas as pd"
   ]
  },
  {
   "cell_type": "code",
   "execution_count": 35,
   "metadata": {},
   "outputs": [],
   "source": [
    "data = pd.read_csv('D:/downloade2/dd/data/consolidated-metrics.csv')"
   ]
  },
  {
   "cell_type": "code",
   "execution_count": 36,
   "metadata": {},
   "outputs": [],
   "source": [
    "# imputing the missing data with mean \n",
    "df1=data.fillna(data.mean())"
   ]
  },
  {
   "cell_type": "code",
   "execution_count": 37,
   "metadata": {},
   "outputs": [
    {
     "data": {
      "text/html": [
       "<div>\n",
       "<style scoped>\n",
       "    .dataframe tbody tr th:only-of-type {\n",
       "        vertical-align: middle;\n",
       "    }\n",
       "\n",
       "    .dataframe tbody tr th {\n",
       "        vertical-align: top;\n",
       "    }\n",
       "\n",
       "    .dataframe thead th {\n",
       "        text-align: right;\n",
       "    }\n",
       "</style>\n",
       "<table border=\"1\" class=\"dataframe\">\n",
       "  <thead>\n",
       "    <tr style=\"text-align: right;\">\n",
       "      <th></th>\n",
       "      <th>timestamp</th>\n",
       "      <th>apiserver_current_inflight_requests</th>\n",
       "      <th>apiserver_request_latencies_summary</th>\n",
       "      <th>apiserver_response_sizes_sum</th>\n",
       "      <th>apiserver_storage_transformation_latencies_microseconds_sum</th>\n",
       "      <th>aws_cpu_utilization</th>\n",
       "      <th>aws_ec2_cpuutilization_average</th>\n",
       "      <th>aws_ec2_network_out_average</th>\n",
       "      <th>aws_network_out</th>\n",
       "      <th>cgroup_manager_operation_rate</th>\n",
       "      <th>...</th>\n",
       "      <th>node_sockstat_TCP_inuse</th>\n",
       "      <th>node_sockstat_TCP_mem</th>\n",
       "      <th>node_sockstat_TCP_mem_bytes</th>\n",
       "      <th>node_sockstat_TCP_orphan</th>\n",
       "      <th>node_sockstat_TCP_tw</th>\n",
       "      <th>node_sockstat_sockets_used</th>\n",
       "      <th>node_timex_estimated_error_seconds</th>\n",
       "      <th>node_timex_frequency_adjustment_ratio</th>\n",
       "      <th>node_timex_maxerror_seconds</th>\n",
       "      <th>status</th>\n",
       "    </tr>\n",
       "  </thead>\n",
       "  <tbody>\n",
       "    <tr>\n",
       "      <th>0</th>\n",
       "      <td>2020-09-18 21:45:03</td>\n",
       "      <td>0.008333</td>\n",
       "      <td>4.775001e+06</td>\n",
       "      <td>6871.300000</td>\n",
       "      <td>0.025000</td>\n",
       "      <td>13.8</td>\n",
       "      <td>0.000</td>\n",
       "      <td>0.000000</td>\n",
       "      <td>0.000000</td>\n",
       "      <td>0.145833</td>\n",
       "      <td>...</td>\n",
       "      <td>0.054167</td>\n",
       "      <td>2.233333</td>\n",
       "      <td>9147.733333</td>\n",
       "      <td>0.000000</td>\n",
       "      <td>0.983333</td>\n",
       "      <td>25.441667</td>\n",
       "      <td>7.625000e-07</td>\n",
       "      <td>0.025000</td>\n",
       "      <td>0.000291</td>\n",
       "      <td>NORMAL</td>\n",
       "    </tr>\n",
       "    <tr>\n",
       "      <th>1</th>\n",
       "      <td>2020-09-18 21:46:03</td>\n",
       "      <td>0.008333</td>\n",
       "      <td>3.862502e+06</td>\n",
       "      <td>7065.713485</td>\n",
       "      <td>0.025000</td>\n",
       "      <td>19.2</td>\n",
       "      <td>0.025</td>\n",
       "      <td>1752.173542</td>\n",
       "      <td>1752.173542</td>\n",
       "      <td>0.145833</td>\n",
       "      <td>...</td>\n",
       "      <td>0.050000</td>\n",
       "      <td>2.887500</td>\n",
       "      <td>11827.200000</td>\n",
       "      <td>0.000000</td>\n",
       "      <td>0.666667</td>\n",
       "      <td>25.420833</td>\n",
       "      <td>7.458333e-07</td>\n",
       "      <td>0.025000</td>\n",
       "      <td>0.000365</td>\n",
       "      <td>CPU_BURN_KANBAN_API_GATEWAY</td>\n",
       "    </tr>\n",
       "    <tr>\n",
       "      <th>2</th>\n",
       "      <td>2020-09-18 21:47:03</td>\n",
       "      <td>0.008333</td>\n",
       "      <td>3.862502e+06</td>\n",
       "      <td>6675.475000</td>\n",
       "      <td>0.025000</td>\n",
       "      <td>19.2</td>\n",
       "      <td>0.050</td>\n",
       "      <td>3504.347083</td>\n",
       "      <td>3504.347083</td>\n",
       "      <td>0.145833</td>\n",
       "      <td>...</td>\n",
       "      <td>0.054167</td>\n",
       "      <td>2.741667</td>\n",
       "      <td>11229.866667</td>\n",
       "      <td>0.000000</td>\n",
       "      <td>0.508333</td>\n",
       "      <td>24.612500</td>\n",
       "      <td>7.055728e-07</td>\n",
       "      <td>0.020833</td>\n",
       "      <td>0.000391</td>\n",
       "      <td>CPU_BURN_KANBAN_API_GATEWAY</td>\n",
       "    </tr>\n",
       "    <tr>\n",
       "      <th>3</th>\n",
       "      <td>2020-09-18 21:48:03</td>\n",
       "      <td>0.016138</td>\n",
       "      <td>2.483334e+06</td>\n",
       "      <td>6890.495833</td>\n",
       "      <td>0.000000</td>\n",
       "      <td>19.2</td>\n",
       "      <td>0.025</td>\n",
       "      <td>1752.173542</td>\n",
       "      <td>1752.173542</td>\n",
       "      <td>0.133333</td>\n",
       "      <td>...</td>\n",
       "      <td>0.004167</td>\n",
       "      <td>1.870833</td>\n",
       "      <td>7662.933333</td>\n",
       "      <td>0.000000</td>\n",
       "      <td>0.683333</td>\n",
       "      <td>19.108333</td>\n",
       "      <td>5.750000e-07</td>\n",
       "      <td>0.016667</td>\n",
       "      <td>0.000383</td>\n",
       "      <td>CPU_BURN_KANBAN_API_GATEWAY</td>\n",
       "    </tr>\n",
       "    <tr>\n",
       "      <th>4</th>\n",
       "      <td>2020-09-18 21:49:03</td>\n",
       "      <td>0.020305</td>\n",
       "      <td>4.500002e+06</td>\n",
       "      <td>7040.254167</td>\n",
       "      <td>0.020833</td>\n",
       "      <td>19.2</td>\n",
       "      <td>0.000</td>\n",
       "      <td>0.000000</td>\n",
       "      <td>0.000000</td>\n",
       "      <td>0.133333</td>\n",
       "      <td>...</td>\n",
       "      <td>0.004167</td>\n",
       "      <td>1.883333</td>\n",
       "      <td>7714.133333</td>\n",
       "      <td>0.004097</td>\n",
       "      <td>0.616667</td>\n",
       "      <td>19.062500</td>\n",
       "      <td>6.166667e-07</td>\n",
       "      <td>0.025000</td>\n",
       "      <td>0.000405</td>\n",
       "      <td>CPU_BURN_KANBAN_API_GATEWAY</td>\n",
       "    </tr>\n",
       "  </tbody>\n",
       "</table>\n",
       "<p>5 rows × 97 columns</p>\n",
       "</div>"
      ],
      "text/plain": [
       "             timestamp  apiserver_current_inflight_requests  \\\n",
       "0  2020-09-18 21:45:03                             0.008333   \n",
       "1  2020-09-18 21:46:03                             0.008333   \n",
       "2  2020-09-18 21:47:03                             0.008333   \n",
       "3  2020-09-18 21:48:03                             0.016138   \n",
       "4  2020-09-18 21:49:03                             0.020305   \n",
       "\n",
       "   apiserver_request_latencies_summary  apiserver_response_sizes_sum  \\\n",
       "0                         4.775001e+06                   6871.300000   \n",
       "1                         3.862502e+06                   7065.713485   \n",
       "2                         3.862502e+06                   6675.475000   \n",
       "3                         2.483334e+06                   6890.495833   \n",
       "4                         4.500002e+06                   7040.254167   \n",
       "\n",
       "   apiserver_storage_transformation_latencies_microseconds_sum  \\\n",
       "0                                           0.025000             \n",
       "1                                           0.025000             \n",
       "2                                           0.025000             \n",
       "3                                           0.000000             \n",
       "4                                           0.020833             \n",
       "\n",
       "   aws_cpu_utilization  aws_ec2_cpuutilization_average  \\\n",
       "0                 13.8                           0.000   \n",
       "1                 19.2                           0.025   \n",
       "2                 19.2                           0.050   \n",
       "3                 19.2                           0.025   \n",
       "4                 19.2                           0.000   \n",
       "\n",
       "   aws_ec2_network_out_average  aws_network_out  \\\n",
       "0                     0.000000         0.000000   \n",
       "1                  1752.173542      1752.173542   \n",
       "2                  3504.347083      3504.347083   \n",
       "3                  1752.173542      1752.173542   \n",
       "4                     0.000000         0.000000   \n",
       "\n",
       "   cgroup_manager_operation_rate  ...  node_sockstat_TCP_inuse  \\\n",
       "0                       0.145833  ...                 0.054167   \n",
       "1                       0.145833  ...                 0.050000   \n",
       "2                       0.145833  ...                 0.054167   \n",
       "3                       0.133333  ...                 0.004167   \n",
       "4                       0.133333  ...                 0.004167   \n",
       "\n",
       "   node_sockstat_TCP_mem  node_sockstat_TCP_mem_bytes  \\\n",
       "0               2.233333                  9147.733333   \n",
       "1               2.887500                 11827.200000   \n",
       "2               2.741667                 11229.866667   \n",
       "3               1.870833                  7662.933333   \n",
       "4               1.883333                  7714.133333   \n",
       "\n",
       "   node_sockstat_TCP_orphan  node_sockstat_TCP_tw  node_sockstat_sockets_used  \\\n",
       "0                  0.000000              0.983333                   25.441667   \n",
       "1                  0.000000              0.666667                   25.420833   \n",
       "2                  0.000000              0.508333                   24.612500   \n",
       "3                  0.000000              0.683333                   19.108333   \n",
       "4                  0.004097              0.616667                   19.062500   \n",
       "\n",
       "   node_timex_estimated_error_seconds  node_timex_frequency_adjustment_ratio  \\\n",
       "0                        7.625000e-07                               0.025000   \n",
       "1                        7.458333e-07                               0.025000   \n",
       "2                        7.055728e-07                               0.020833   \n",
       "3                        5.750000e-07                               0.016667   \n",
       "4                        6.166667e-07                               0.025000   \n",
       "\n",
       "   node_timex_maxerror_seconds                       status  \n",
       "0                     0.000291                       NORMAL  \n",
       "1                     0.000365  CPU_BURN_KANBAN_API_GATEWAY  \n",
       "2                     0.000391  CPU_BURN_KANBAN_API_GATEWAY  \n",
       "3                     0.000383  CPU_BURN_KANBAN_API_GATEWAY  \n",
       "4                     0.000405  CPU_BURN_KANBAN_API_GATEWAY  \n",
       "\n",
       "[5 rows x 97 columns]"
      ]
     },
     "execution_count": 37,
     "metadata": {},
     "output_type": "execute_result"
    }
   ],
   "source": [
    "df1.head()"
   ]
  },
  {
   "cell_type": "code",
   "execution_count": 38,
   "metadata": {},
   "outputs": [
    {
     "data": {
      "text/plain": [
       "NORMAL                                  0.642059\n",
       "NETWORK_DELAY_KANBAN_API_GATEWAY        0.150442\n",
       "NETWORK_DELAY_KANBAN_COMMAND_SERVICE    0.116442\n",
       "POD_KILL_KANBAN_API_GATEWAY             0.072194\n",
       "CPU_BURN_KANBAN_API_GATEWAY             0.018631\n",
       "Name: status, dtype: float64"
      ]
     },
     "execution_count": 38,
     "metadata": {},
     "output_type": "execute_result"
    }
   ],
   "source": [
    "data.status.value_counts()/len(data)"
   ]
  },
  {
   "cell_type": "code",
   "execution_count": 39,
   "metadata": {},
   "outputs": [],
   "source": [
    "# remove white space\n",
    "df1['status'].replace('', np.nan, inplace=True)\n",
    "df1.dropna(subset=['status'], inplace=True)"
   ]
  },
  {
   "cell_type": "code",
   "execution_count": 40,
   "metadata": {},
   "outputs": [
    {
     "name": "stdout",
     "output_type": "stream",
     "text": [
      "<class 'pandas.core.frame.DataFrame'>\n",
      "RangeIndex: 4294 entries, 0 to 4293\n",
      "Data columns (total 97 columns):\n",
      " #   Column                                                       Non-Null Count  Dtype  \n",
      "---  ------                                                       --------------  -----  \n",
      " 0   timestamp                                                    4293 non-null   object \n",
      " 1   apiserver_current_inflight_requests                          4293 non-null   float64\n",
      " 2   apiserver_request_latencies_summary                          4293 non-null   float64\n",
      " 3   apiserver_response_sizes_sum                                 4293 non-null   float64\n",
      " 4   apiserver_storage_transformation_latencies_microseconds_sum  4293 non-null   float64\n",
      " 5   aws_cpu_utilization                                          4294 non-null   float64\n",
      " 6   aws_ec2_cpuutilization_average                               4292 non-null   float64\n",
      " 7   aws_ec2_network_out_average                                  4292 non-null   float64\n",
      " 8   aws_network_out                                              4292 non-null   float64\n",
      " 9   cgroup_manager_operation_rate                                4293 non-null   float64\n",
      " 10  container_cpu_cfs_throttled_seconds_total                    4294 non-null   float64\n",
      " 11  container_fs_inodes_free                                     4294 non-null   float64\n",
      " 12  container_fs_usage_bytes                                     4294 non-null   float64\n",
      " 13  container_fs_writes_total                                    4294 non-null   float64\n",
      " 14  container_memory_cache                                       4294 non-null   float64\n",
      " 15  container_memory_mapped_file                                 4294 non-null   float64\n",
      " 16  container_memory_rss                                         4294 non-null   float64\n",
      " 17  container_memory_usage_bytes                                 4294 non-null   float64\n",
      " 18  container_memory_working_set_bytes                           4294 non-null   float64\n",
      " 19  coredns_kubernetes_dns_programming_duration_seconds_count    4293 non-null   float64\n",
      " 20  coredns_kubernetes_dns_programming_duration_seconds_sum      4293 non-null   float64\n",
      " 21  etcd_object_counts                                           4293 non-null   float64\n",
      " 22  etcd_request_latencies_summary_count                         4293 non-null   float64\n",
      " 23  http_request_duration_microseconds                           4291 non-null   float64\n",
      " 24  http_response_size_bytes                                     4291 non-null   float64\n",
      " 25  httpsessions_active                                          4292 non-null   float64\n",
      " 26  kafka_log_size_growth_rate                                   4276 non-null   float64\n",
      " 27  kafka_network_receive                                        4290 non-null   float64\n",
      " 28  kafka_network_transmit                                       4290 non-null   float64\n",
      " 29  kanban_boards_creation                                       4292 non-null   float64\n",
      " 30  kanban_tasks_complete_with_200_status                        4083 non-null   float64\n",
      " 31  kanban_tasks_get_history                                     4083 non-null   float64\n",
      " 32  kube_pod_start_time                                          4293 non-null   float64\n",
      " 33  kube_poddisruptionbudget_status_current_healthy              4293 non-null   float64\n",
      " 34  kube_replicaset_created                                      4293 non-null   float64\n",
      " 35  kubelet_cgroup_manager_latency_microseconds                  4293 non-null   float64\n",
      " 36  kubelet_container_log_filesystem_used_bytes                  4293 non-null   float64\n",
      " 37  kubelet_operation_rate                                       4293 non-null   float64\n",
      " 38  kubelet_pleg_relist_interval_microseconds                    4293 non-null   float64\n",
      " 39  kubelet_pleg_relist_latency_microseconds                     4293 non-null   float64\n",
      " 40  kubelet_pod_start_rate                                       4293 non-null   float64\n",
      " 41  kubelet_pod_worker_duration_bucket                           221 non-null    float64\n",
      " 42  kubelet_running_container_count                              4293 non-null   float64\n",
      " 43  kubelet_running_pod_count                                    4293 non-null   float64\n",
      " 44  kubelet_volume_stats_available_bytes                         4289 non-null   float64\n",
      " 45  kubelet_volume_stats_inodes_free                             4289 non-null   float64\n",
      " 46  kubelet_volume_stats_inodes_used                             4289 non-null   float64\n",
      " 47  kubelet_volume_stats_used_bytes                              4289 non-null   float64\n",
      " 48  mem_free                                                     4292 non-null   float64\n",
      " 49  mongodb_network_in                                           4292 non-null   float64\n",
      " 50  mysql_bytes_received                                         4291 non-null   float64\n",
      " 51  node_arp_entries                                             4293 non-null   float64\n",
      " 52  node_entropy_available_bits                                  4293 non-null   float64\n",
      " 53  node_filefd_allocated                                        4293 non-null   float64\n",
      " 54  node_filesystem_avail_bytes                                  4293 non-null   float64\n",
      " 55  node_filesystem_files                                        4293 non-null   float64\n",
      " 56  node_filesystem_files_free                                   4293 non-null   float64\n",
      " 57  node_filesystem_free_bytes                                   4293 non-null   float64\n",
      " 58  node_load1                                                   4293 non-null   float64\n",
      " 59  node_load15                                                  4293 non-null   float64\n",
      " 60  node_load5                                                   4293 non-null   float64\n",
      " 61  node_memory_Active_anon_bytes                                4293 non-null   float64\n",
      " 62  node_memory_Active_bytes                                     4293 non-null   float64\n",
      " 63  node_memory_Active_file_bytes                                4293 non-null   float64\n",
      " 64  node_memory_AnonHugePages_bytes                              4293 non-null   float64\n",
      " 65  node_memory_AnonPages_bytes                                  4293 non-null   float64\n",
      " 66  node_memory_Buffers_bytes                                    4293 non-null   float64\n",
      " 67  node_memory_Cached_bytes                                     4293 non-null   float64\n",
      " 68  node_memory_Committed_AS_bytes                               4293 non-null   float64\n",
      " 69  node_memory_Dirty_bytes                                      4293 non-null   float64\n",
      " 70  node_memory_Inactive_anon_bytes                              4293 non-null   float64\n",
      " 71  node_memory_Inactive_bytes                                   4293 non-null   float64\n",
      " 72  node_memory_Inactive_file_bytes                              4293 non-null   float64\n",
      " 73  node_memory_KernelStack_bytes                                4293 non-null   float64\n",
      " 74  node_memory_Mapped_bytes                                     4293 non-null   float64\n",
      " 75  node_memory_MemAvailable_bytes                               4293 non-null   float64\n",
      " 76  node_memory_MemFree_bytes                                    4293 non-null   float64\n",
      " 77  node_memory_SReclaimable_bytes                               4293 non-null   float64\n",
      " 78  node_memory_SUnreclaim_bytes                                 4293 non-null   float64\n",
      " 79  node_memory_Shmem_bytes                                      4293 non-null   float64\n",
      " 80  node_memory_Slab_bytes                                       4293 non-null   float64\n",
      " 81  node_memory_Writeback_bytes                                  4293 non-null   float64\n",
      " 82  node_netstat_Tcp_CurrEstab                                   4293 non-null   float64\n",
      " 83  node_nf_conntrack_entries                                    4293 non-null   float64\n",
      " 84  node_procs_blocked                                           4293 non-null   float64\n",
      " 85  node_procs_running                                           4293 non-null   float64\n",
      " 86  node_scrape_collector_duration_seconds                       4293 non-null   float64\n",
      " 87  node_sockstat_TCP_inuse                                      4293 non-null   float64\n",
      " 88  node_sockstat_TCP_mem                                        4293 non-null   float64\n",
      " 89  node_sockstat_TCP_mem_bytes                                  4293 non-null   float64\n",
      " 90  node_sockstat_TCP_orphan                                     4293 non-null   float64\n",
      " 91  node_sockstat_TCP_tw                                         4293 non-null   float64\n",
      " 92  node_sockstat_sockets_used                                   4293 non-null   float64\n",
      " 93  node_timex_estimated_error_seconds                           4293 non-null   float64\n",
      " 94  node_timex_frequency_adjustment_ratio                        4293 non-null   float64\n",
      " 95  node_timex_maxerror_seconds                                  4293 non-null   float64\n",
      " 96  status                                                       4293 non-null   object \n",
      "dtypes: float64(95), object(2)\n",
      "memory usage: 3.2+ MB\n"
     ]
    }
   ],
   "source": [
    "data.info()"
   ]
  },
  {
   "cell_type": "code",
   "execution_count": 41,
   "metadata": {},
   "outputs": [
    {
     "data": {
      "text/plain": [
       "(4294, 97)"
      ]
     },
     "execution_count": 41,
     "metadata": {},
     "output_type": "execute_result"
    }
   ],
   "source": [
    "data.shape"
   ]
  },
  {
   "cell_type": "code",
   "execution_count": 42,
   "metadata": {},
   "outputs": [],
   "source": [
    "y= df1['status'].values"
   ]
  },
  {
   "cell_type": "code",
   "execution_count": 43,
   "metadata": {},
   "outputs": [
    {
     "data": {
      "text/plain": [
       "array(['NORMAL', 'CPU_BURN_KANBAN_API_GATEWAY',\n",
       "       'CPU_BURN_KANBAN_API_GATEWAY', ..., 'NORMAL', 'NORMAL', 'NORMAL'],\n",
       "      dtype=object)"
      ]
     },
     "execution_count": 43,
     "metadata": {},
     "output_type": "execute_result"
    }
   ],
   "source": [
    "y"
   ]
  },
  {
   "cell_type": "code",
   "execution_count": 44,
   "metadata": {},
   "outputs": [],
   "source": [
    "df1.drop('status',inplace=True,axis=1)"
   ]
  },
  {
   "cell_type": "code",
   "execution_count": 45,
   "metadata": {},
   "outputs": [],
   "source": [
    "df1.drop('timestamp',inplace =True,axis=1)\n",
    "x=df1"
   ]
  },
  {
   "cell_type": "code",
   "execution_count": 46,
   "metadata": {},
   "outputs": [],
   "source": [
    "# normalising the feature within range(0,1)\n",
    "from sklearn.preprocessing import MinMaxScaler\n",
    "scaler = MinMaxScaler(feature_range=(0,1))\n",
    "x= scaler.fit_transform(x)\n",
    "x= pd.DataFrame(x)"
   ]
  },
  {
   "cell_type": "code",
   "execution_count": null,
   "metadata": {},
   "outputs": [],
   "source": []
  },
  {
   "cell_type": "code",
   "execution_count": 47,
   "metadata": {},
   "outputs": [],
   "source": [
    "from sklearn.model_selection import train_test_split\n",
    "from sklearn.metrics import mean_squared_error\n",
    "from math import sqrt"
   ]
  },
  {
   "cell_type": "code",
   "execution_count": 48,
   "metadata": {},
   "outputs": [],
   "source": [
    "x_train, x_test,y_train,y_test = train_test_split(x,y,test_size=0.2, random_state=20)"
   ]
  },
  {
   "cell_type": "code",
   "execution_count": 49,
   "metadata": {},
   "outputs": [],
   "source": [
    "# one hot encode outputs\n",
    "#from keras.utils import np_utils\n",
    "#y_train = to_categorical(y_train)\n",
    "#y_test = to_categorical(y_test)\n",
    "# encode class labels as interger\n",
    "from sklearn.preprocessing import LabelEncoder\n",
    "from keras.utils import np_utils\n",
    "encoder = LabelEncoder()\n",
    "encoder.fit(y_train)\n",
    "encoded_y= encoder.transform(y_train)\n",
    "\n",
    "dummy_y = np_utils.to_categorical(encoded_y)"
   ]
  },
  {
   "cell_type": "code",
   "execution_count": 50,
   "metadata": {},
   "outputs": [
    {
     "data": {
      "text/plain": [
       "array([[0., 0., 0., 1., 0.],\n",
       "       [0., 0., 0., 1., 0.],\n",
       "       [0., 0., 0., 1., 0.],\n",
       "       ...,\n",
       "       [0., 0., 0., 1., 0.],\n",
       "       [0., 1., 0., 0., 0.],\n",
       "       [0., 0., 1., 0., 0.]], dtype=float32)"
      ]
     },
     "execution_count": 50,
     "metadata": {},
     "output_type": "execute_result"
    }
   ],
   "source": [
    "dummy_y"
   ]
  },
  {
   "cell_type": "code",
   "execution_count": 51,
   "metadata": {},
   "outputs": [],
   "source": [
    "from keras.models import Sequential\n",
    "from keras.layers import Dense\n",
    "from keras.utils import to_categorical"
   ]
  },
  {
   "cell_type": "code",
   "execution_count": 52,
   "metadata": {},
   "outputs": [],
   "source": [
    "model = Sequential()\n",
    "\n",
    "model.add(Dense(500, activation = 'relu', input_dim= 95))\n",
    "model.add(Dense(100,activation ='relu'))\n",
    "model.add(Dense(50,activation='relu'))\n",
    "model.add(Dense(5,activation='softmax'))"
   ]
  },
  {
   "cell_type": "code",
   "execution_count": 53,
   "metadata": {},
   "outputs": [],
   "source": [
    "model.compile(optimizer ='adam', loss = 'categorical_crossentropy', metrics =['accuracy'])"
   ]
  },
  {
   "cell_type": "code",
   "execution_count": 54,
   "metadata": {},
   "outputs": [
    {
     "name": "stdout",
     "output_type": "stream",
     "text": [
      "Epoch 1/30\n",
      "86/86 [==============================] - 2s 3ms/step - loss: 1.1906 - accuracy: 0.5803\n",
      "Epoch 2/30\n",
      "86/86 [==============================] - 0s 2ms/step - loss: 0.8251 - accuracy: 0.6797\n",
      "Epoch 3/30\n",
      "86/86 [==============================] - 0s 2ms/step - loss: 0.6150 - accuracy: 0.7701\n",
      "Epoch 4/30\n",
      "86/86 [==============================] - 0s 2ms/step - loss: 0.5118 - accuracy: 0.8205\n",
      "Epoch 5/30\n",
      "86/86 [==============================] - 0s 3ms/step - loss: 0.4324 - accuracy: 0.8452\n",
      "Epoch 6/30\n",
      "86/86 [==============================] - 0s 3ms/step - loss: 0.4316 - accuracy: 0.8442\n",
      "Epoch 7/30\n",
      "86/86 [==============================] - 0s 2ms/step - loss: 0.4035 - accuracy: 0.8653\n",
      "Epoch 8/30\n",
      "86/86 [==============================] - 0s 3ms/step - loss: 0.3674 - accuracy: 0.8707\n",
      "Epoch 9/30\n",
      "86/86 [==============================] - 0s 3ms/step - loss: 0.3374 - accuracy: 0.8835\n",
      "Epoch 10/30\n",
      "86/86 [==============================] - 0s 3ms/step - loss: 0.3181 - accuracy: 0.8848\n",
      "Epoch 11/30\n",
      "86/86 [==============================] - 0s 3ms/step - loss: 0.2907 - accuracy: 0.9020\n",
      "Epoch 12/30\n",
      "86/86 [==============================] - 0s 2ms/step - loss: 0.2581 - accuracy: 0.9117\n",
      "Epoch 13/30\n",
      "86/86 [==============================] - 0s 2ms/step - loss: 0.2514 - accuracy: 0.9136\n",
      "Epoch 14/30\n",
      "86/86 [==============================] - 0s 2ms/step - loss: 0.2236 - accuracy: 0.9208\n",
      "Epoch 15/30\n",
      "86/86 [==============================] - 0s 2ms/step - loss: 0.2242 - accuracy: 0.9211\n",
      "Epoch 16/30\n",
      "86/86 [==============================] - 0s 3ms/step - loss: 0.1980 - accuracy: 0.9305\n",
      "Epoch 17/30\n",
      "86/86 [==============================] - 0s 3ms/step - loss: 0.1774 - accuracy: 0.9435\n",
      "Epoch 18/30\n",
      "86/86 [==============================] - 0s 2ms/step - loss: 0.1863 - accuracy: 0.9399\n",
      "Epoch 19/30\n",
      "86/86 [==============================] - 0s 2ms/step - loss: 0.1516 - accuracy: 0.9452\n",
      "Epoch 20/30\n",
      "86/86 [==============================] - 0s 2ms/step - loss: 0.1349 - accuracy: 0.9510\n",
      "Epoch 21/30\n",
      "86/86 [==============================] - 0s 3ms/step - loss: 0.1343 - accuracy: 0.9559\n",
      "Epoch 22/30\n",
      "86/86 [==============================] - 0s 3ms/step - loss: 0.1496 - accuracy: 0.9439\n",
      "Epoch 23/30\n",
      "86/86 [==============================] - 0s 3ms/step - loss: 0.0955 - accuracy: 0.9676\n",
      "Epoch 24/30\n",
      "86/86 [==============================] - 0s 3ms/step - loss: 0.0914 - accuracy: 0.9719\n",
      "Epoch 25/30\n",
      "86/86 [==============================] - 0s 3ms/step - loss: 0.0815 - accuracy: 0.9748\n",
      "Epoch 26/30\n",
      "86/86 [==============================] - 0s 3ms/step - loss: 0.0563 - accuracy: 0.9845\n",
      "Epoch 27/30\n",
      "86/86 [==============================] - 0s 3ms/step - loss: 0.0554 - accuracy: 0.9832: 0s - loss: 0.0567 - accuracy: 0.\n",
      "Epoch 28/30\n",
      "86/86 [==============================] - 0s 3ms/step - loss: 0.0535 - accuracy: 0.9840\n",
      "Epoch 29/30\n",
      "86/86 [==============================] - 0s 3ms/step - loss: 0.0640 - accuracy: 0.9791\n",
      "Epoch 30/30\n",
      "86/86 [==============================] - 0s 3ms/step - loss: 0.0483 - accuracy: 0.9852\n"
     ]
    },
    {
     "data": {
      "text/plain": [
       "<tensorflow.python.keras.callbacks.History at 0x25604899fa0>"
      ]
     },
     "execution_count": 54,
     "metadata": {},
     "output_type": "execute_result"
    }
   ],
   "source": [
    "model.fit(x_train,dummy_y, batch_size = 40 ,epochs=30, verbose=1)"
   ]
  },
  {
   "cell_type": "code",
   "execution_count": 55,
   "metadata": {},
   "outputs": [],
   "source": [
    "encoder = LabelEncoder()\n",
    "encoder.fit(y_test)\n",
    "encoded_y= encoder.transform(y_test)\n",
    "\n",
    "test_dummy_y = np_utils.to_categorical(encoded_y)"
   ]
  },
  {
   "cell_type": "code",
   "execution_count": 70,
   "metadata": {},
   "outputs": [
    {
     "name": "stdout",
     "output_type": "stream",
     "text": [
      "Accuracy on training data: 0.9670937657356262% \n",
      " Error on training data: 0.03290623426437378\n",
      "Accuracy on test data: 0.9185099005699158% \n",
      " Error on test data: 0.08149009943008423\n"
     ]
    }
   ],
   "source": [
    "pred_train= model.predict(x_train)\n",
    "scores = model.evaluate(x_train, dummy_y, verbose=0)\n",
    "print('Accuracy on training data: {}% \\n Error on training data: {}'.format(scores[1], 1 - scores[1]))   \n",
    " \n",
    "pred_test= model.predict(x_test)\n",
    "scores2 = model.evaluate(x_test, test_dummy_y, verbose=0)\n",
    "print('Accuracy on test data: {}% \\n Error on test data: {}'.format(scores2[1], 1 - scores2[1]))    "
   ]
  },
  {
   "cell_type": "code",
   "execution_count": 71,
   "metadata": {},
   "outputs": [],
   "source": [
    "from sklearn.metrics import confusion_matrix"
   ]
  },
  {
   "cell_type": "code",
   "execution_count": 73,
   "metadata": {},
   "outputs": [
    {
     "data": {
      "text/plain": [
       "array([[7.0878919e-03, 1.4060183e-02, 8.1522769e-04, 9.7799760e-01,\n",
       "        3.9164974e-05],\n",
       "       [2.3952832e-04, 6.8682276e-08, 1.9038791e-03, 9.9784303e-01,\n",
       "        1.3390161e-05],\n",
       "       [6.1607773e-15, 2.2872544e-12, 1.7488581e-24, 1.4142226e-16,\n",
       "        1.0000000e+00],\n",
       "       ...,\n",
       "       [8.3769964e-06, 4.1738944e-04, 2.5486909e-11, 9.9957138e-01,\n",
       "        2.8263403e-06],\n",
       "       [1.1643664e-07, 9.9864382e-01, 1.8301274e-09, 1.3560917e-03,\n",
       "        4.8119677e-09],\n",
       "       [1.2542350e-03, 7.6347101e-01, 2.9253089e-05, 2.3523504e-01,\n",
       "        1.0440929e-05]], dtype=float32)"
      ]
     },
     "execution_count": 73,
     "metadata": {},
     "output_type": "execute_result"
    }
   ],
   "source": [
    "pred_test"
   ]
  },
  {
   "cell_type": "code",
   "execution_count": 75,
   "metadata": {},
   "outputs": [
    {
     "data": {
      "text/plain": [
       "array([[  2,   0,   0,  13,   0],\n",
       "       [  0, 105,   1,  21,   0],\n",
       "       [  0,   2,  75,  21,   0],\n",
       "       [  0,   6,   1, 559,   0],\n",
       "       [  0,   1,   0,   4,  48]], dtype=int64)"
      ]
     },
     "execution_count": 75,
     "metadata": {},
     "output_type": "execute_result"
    }
   ],
   "source": [
    "matrix = confusion_matrix(test_dummy_y.argmax(axis=1), pred_test.argmax(axis=1))\n",
    "matrix"
   ]
  },
  {
   "cell_type": "code",
   "execution_count": 76,
   "metadata": {},
   "outputs": [],
   "source": [
    "from sklearn.metrics import classification_report"
   ]
  },
  {
   "cell_type": "code",
   "execution_count": 77,
   "metadata": {},
   "outputs": [
    {
     "name": "stdout",
     "output_type": "stream",
     "text": [
      "              precision    recall  f1-score   support\n",
      "\n",
      "           0       1.00      0.13      0.24        15\n",
      "           1       0.92      0.83      0.87       127\n",
      "           2       0.97      0.77      0.86        98\n",
      "           3       0.90      0.99      0.94       566\n",
      "           4       1.00      0.91      0.95        53\n",
      "\n",
      "    accuracy                           0.92       859\n",
      "   macro avg       0.96      0.72      0.77       859\n",
      "weighted avg       0.92      0.92      0.91       859\n",
      "\n"
     ]
    }
   ],
   "source": [
    "print(classification_report(test_dummy_y.argmax(axis=1), pred_test.argmax(axis=1)))"
   ]
  },
  {
   "cell_type": "code",
   "execution_count": null,
   "metadata": {},
   "outputs": [],
   "source": []
  }
 ],
 "metadata": {
  "kernelspec": {
   "display_name": "Python 3",
   "language": "python",
   "name": "python3"
  },
  "language_info": {
   "codemirror_mode": {
    "name": "ipython",
    "version": 3
   },
   "file_extension": ".py",
   "mimetype": "text/x-python",
   "name": "python",
   "nbconvert_exporter": "python",
   "pygments_lexer": "ipython3",
   "version": "3.8.5"
  }
 },
 "nbformat": 4,
 "nbformat_minor": 4
}
