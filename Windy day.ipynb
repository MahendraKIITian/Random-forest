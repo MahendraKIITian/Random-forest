{
 "cells": [
  {
   "cell_type": "code",
   "execution_count": 42,
   "metadata": {},
   "outputs": [],
   "source": [
    "import pandas as pd\n",
    "import numpy as np"
   ]
  },
  {
   "cell_type": "code",
   "execution_count": 43,
   "metadata": {},
   "outputs": [],
   "source": [
    "data_train = pd.read_csv('D:/downloade2/dd/949ca43ea68511eb/dataset/train.csv')\n",
    "data_test = pd.read_csv('D:/downloade2/dd/949ca43ea68511eb/dataset/test.csv')"
   ]
  },
  {
   "cell_type": "code",
   "execution_count": 44,
   "metadata": {},
   "outputs": [
    {
     "name": "stdout",
     "output_type": "stream",
     "text": [
      "<class 'pandas.core.frame.DataFrame'>\n",
      "RangeIndex: 28200 entries, 0 to 28199\n",
      "Data columns (total 22 columns):\n",
      " #   Column                          Non-Null Count  Dtype  \n",
      "---  ------                          --------------  -----  \n",
      " 0   tracking_id                     28200 non-null  object \n",
      " 1   datetime                        28200 non-null  object \n",
      " 2   wind_speed(m/s)                 27927 non-null  float64\n",
      " 3   atmospheric_temperature(°C)     24750 non-null  float64\n",
      " 4   shaft_temperature(°C)           28198 non-null  float64\n",
      " 5   blades_angle(°)                 27984 non-null  float64\n",
      " 6   gearbox_temperature(°C)         28199 non-null  float64\n",
      " 7   engine_temperature(°C)          28188 non-null  float64\n",
      " 8   motor_torque(N-m)               28176 non-null  float64\n",
      " 9   generator_temperature(°C)       28188 non-null  float64\n",
      " 10  atmospheric_pressure(Pascal)    25493 non-null  float64\n",
      " 11  area_temperature(°C)            28200 non-null  float64\n",
      " 12  windmill_body_temperature(°C)   25837 non-null  float64\n",
      " 13  wind_direction(°)               23097 non-null  float64\n",
      " 14  resistance(ohm)                 28199 non-null  float64\n",
      " 15  rotor_torque(N-m)               27628 non-null  float64\n",
      " 16  turbine_status                  26441 non-null  object \n",
      " 17  cloud_level                     27924 non-null  object \n",
      " 18  blade_length(m)                 23107 non-null  float64\n",
      " 19  blade_breadth(m)                28200 non-null  float64\n",
      " 20  windmill_height(m)              27657 non-null  float64\n",
      " 21  windmill_generated_power(kW/h)  27993 non-null  float64\n",
      "dtypes: float64(18), object(4)\n",
      "memory usage: 4.7+ MB\n"
     ]
    }
   ],
   "source": [
    "#data_train.isnull().sum()\n",
    "data_train.info()"
   ]
  },
  {
   "cell_type": "code",
   "execution_count": 13,
   "metadata": {},
   "outputs": [
    {
     "data": {
      "text/plain": [
       "tracking_id                          0\n",
       "datetime                             0\n",
       "wind_speed(m/s)                    273\n",
       "atmospheric_temperature(°C)       3450\n",
       "shaft_temperature(°C)                2\n",
       "blades_angle(°)                    216\n",
       "gearbox_temperature(°C)              1\n",
       "engine_temperature(°C)              12\n",
       "motor_torque(N-m)                   24\n",
       "generator_temperature(°C)           12\n",
       "atmospheric_pressure(Pascal)      2707\n",
       "area_temperature(°C)                 0\n",
       "windmill_body_temperature(°C)     2363\n",
       "wind_direction(°)                 5103\n",
       "resistance(ohm)                      1\n",
       "rotor_torque(N-m)                  572\n",
       "turbine_status                    1759\n",
       "cloud_level                        276\n",
       "blade_length(m)                   5093\n",
       "blade_breadth(m)                     0\n",
       "windmill_height(m)                 543\n",
       "windmill_generated_power(kW/h)     207\n",
       "dtype: int64"
      ]
     },
     "execution_count": 13,
     "metadata": {},
     "output_type": "execute_result"
    }
   ],
   "source": [
    "data_train.isnull().sum()\n",
    "#data_train['wind_speed(m/s)'].mean()"
   ]
  },
  {
   "cell_type": "code",
   "execution_count": 45,
   "metadata": {},
   "outputs": [],
   "source": [
    "# data preprocessing \n",
    "# imputing missing  value with mean and mode \n",
    "\n",
    "# turbine status\n",
    "turbine_status_mode = data_train['turbine_status'].mode()\n",
    "data_train.turbine_status.fillna('turbine_status_mode',inplace=True)\n",
    "\n",
    "# cloud level\n",
    "cloud_level_mode = data_train['cloud_level'].mode()\n",
    "data_train.cloud_level.fillna('cloud_level_mode',inplace=True)\n",
    "\n",
    "\n",
    "# wind speed m/s\n",
    "#wind_speed_mean = data_train['wind_speed(m/s)'].mean()\n",
    "#data_train.wind_speed(m/s).fillna('wind_speed_mean',inplace='True')\n",
    "\n",
    "#"
   ]
  },
  {
   "cell_type": "code",
   "execution_count": 46,
   "metadata": {},
   "outputs": [],
   "source": [
    "df1 =data_train.fillna(data_train.mean())"
   ]
  },
  {
   "cell_type": "code",
   "execution_count": 48,
   "metadata": {},
   "outputs": [],
   "source": [
    "# feature preprocessing \n",
    "\n",
    "# label encoder for turbine status and cloud level\n",
    "from sklearn import preprocessing\n",
    "\n",
    "for x in df1.columns:\n",
    "    if data_train[x].dtype=='object':\n",
    "        lbl = preprocessing.LabelEncoder()\n",
    "        lbl.fit(list(df1[x].values))\n",
    "        df1[x]=lbl.transform(list(df1[x].values))\n"
   ]
  },
  {
   "cell_type": "code",
   "execution_count": 151,
   "metadata": {},
   "outputs": [],
   "source": [
    "# buliding a linear regression model\n",
    "\n",
    "# dependent y and indepdent varibale x\n",
    "x= df1.iloc[:,2:21]\n",
    "y = df1.iloc[:,21]\n",
    "\n",
    "\n"
   ]
  },
  {
   "cell_type": "code",
   "execution_count": 152,
   "metadata": {},
   "outputs": [
    {
     "data": {
      "text/plain": [
       "(       wind_speed(m/s)  atmospheric_temperature(°C)  shaft_temperature(°C)  \\\n",
       " 0            94.820023                   -99.000000              41.723019   \n",
       " 1           241.832734                    27.764785             -99.000000   \n",
       " 2            95.484724                     0.383727              41.855473   \n",
       " 3           238.819424                   -99.000000              45.443914   \n",
       " 4            10.722890                     0.383727              41.981183   \n",
       " ...                ...                          ...                    ...   \n",
       " 28195        94.765699                    23.576793              45.399352   \n",
       " 28196        94.196738                    24.034329              42.068979   \n",
       " 28197        94.160463                    28.674296              45.004213   \n",
       " 28198        95.430377                    26.560254              48.032624   \n",
       " 28199        43.558352                    18.721231               9.220208   \n",
       " \n",
       "        blades_angle(°)  gearbox_temperature(°C)  engine_temperature(°C)  \\\n",
       " 0            -0.903423                82.410573               42.523015   \n",
       " 1           -99.000000                44.104919               46.258870   \n",
       " 2            12.652763                42.322098               42.878552   \n",
       " 3            15.115323                44.759643               47.282101   \n",
       " 4             1.715696               -17.616459               43.469852   \n",
       " ...                ...                      ...                     ...   \n",
       " 28195         5.377222                -1.085171               48.528248   \n",
       " 28196       -99.000000                44.285153               43.487939   \n",
       " 28197         9.550358                49.377706               44.042632   \n",
       " 28198         3.051389                81.443896               44.821365   \n",
       " 28199         2.593639                40.262279               40.901975   \n",
       " \n",
       "        motor_torque(N-m)  generator_temperature(°C)  \\\n",
       " 0            2563.124522                  76.665560   \n",
       " 1            2372.384119                  78.129803   \n",
       " 2            1657.169646                  67.654469   \n",
       " 3            2888.134079                  95.389974   \n",
       " 4             781.695419                  37.423065   \n",
       " ...                  ...                        ...   \n",
       " 28195        2791.600990                  90.898875   \n",
       " 28196        2207.882276                  72.244645   \n",
       " 28197        2801.657374                  94.814637   \n",
       " 28198        2760.647280                  90.144418   \n",
       " 28199        2015.977410                  69.043447   \n",
       " \n",
       "        atmospheric_pressure(Pascal)  area_temperature(°C)  \\\n",
       " 0                     103402.961872             26.897875   \n",
       " 1                      17030.904078             39.801469   \n",
       " 2                      16125.927107             36.116065   \n",
       " 3                      18689.732336             46.020045   \n",
       " 4                     114468.169007             34.572941   \n",
       " ...                             ...                   ...   \n",
       " 28195                  19428.725079             45.429230   \n",
       " 28196                  16596.485400             25.142681   \n",
       " 28197                  19083.881449             45.129442   \n",
       " 28198                  18360.785707             45.603927   \n",
       " 28199                -256507.547672             22.413407   \n",
       " \n",
       "        windmill_body_temperature(°C)  wind_direction(°)  resistance(ohm)  \\\n",
       " 0                          20.799761         239.836388      2730.310605   \n",
       " 1                          20.799761         337.944723      1780.207200   \n",
       " 2                          45.033197         227.850294      1666.049900   \n",
       " 3                          44.827154         492.081520      1964.502895   \n",
       " 4                         -99.000000         259.274601      1177.516152   \n",
       " ...                              ...                ...              ...   \n",
       " 28195                      44.242269         536.153413      1980.861921   \n",
       " 28196                      43.616412         354.239825      1712.840457   \n",
       " 28197                      43.576510         534.209913      1951.728713   \n",
       " 28198                      44.973415         568.504898      1968.917692   \n",
       " 28199                      44.100782         320.498070      1666.526546   \n",
       " \n",
       "        rotor_torque(N-m)  turbine_status  cloud_level  blade_length(m)  \\\n",
       " 0              42.084666               8            2         2.217542   \n",
       " 1             107.888643               1            2         4.210346   \n",
       " 2             -42.931459               4            2         2.719475   \n",
       " 3              42.744596               4            3         4.857385   \n",
       " 4              13.387289               2            2         2.254034   \n",
       " ...                  ...             ...          ...              ...   \n",
       " 28195          45.909054               9            2         2.774335   \n",
       " 28196          36.974913               9            1        -3.250989   \n",
       " 28197          88.319152              13            2         2.254034   \n",
       " 28198          47.562627              11            1         3.001855   \n",
       " 28199          -8.932053              10            1         2.254034   \n",
       " \n",
       "        blade_breadth(m)  windmill_height(m)  \n",
       " 0              0.314065           24.281689  \n",
       " 1              0.448494           27.262139  \n",
       " 2              0.302321           27.366127  \n",
       " 3              0.367140           24.287767  \n",
       " 4              0.453374           27.971650  \n",
       " ...                 ...                 ...  \n",
       " 28195          0.418299           24.590801  \n",
       " 28196          0.461531           26.051604  \n",
       " 28197          0.380264           28.533850  \n",
       " 28198          0.346447           47.747269  \n",
       " 28199          0.388855           24.125408  \n",
       " \n",
       " [28200 rows x 19 columns],\n",
       " 0         6.766521\n",
       " 1         5.966275\n",
       " 2         2.874342\n",
       " 3        14.851089\n",
       " 4         3.519074\n",
       "            ...    \n",
       " 28195     9.587934\n",
       " 28196     4.522195\n",
       " 28197    11.096599\n",
       " 28198     9.373239\n",
       " 28199     2.860342\n",
       " Name: windmill_generated_power(kW/h), Length: 28200, dtype: float64)"
      ]
     },
     "execution_count": 152,
     "metadata": {},
     "output_type": "execute_result"
    }
   ],
   "source": [
    "x,y"
   ]
  },
  {
   "cell_type": "code",
   "execution_count": 122,
   "metadata": {},
   "outputs": [],
   "source": [
    "import statsmodels.api as sm\n",
    "\n",
    "#x= sm.add_constant(x)\n",
    "model= sm.OLS(y,x)\n",
    "results = model.fit()"
   ]
  },
  {
   "cell_type": "code",
   "execution_count": 123,
   "metadata": {},
   "outputs": [
    {
     "data": {
      "text/plain": [
       "(0.9057788130957275, 0.9057152879351164)"
      ]
     },
     "execution_count": 123,
     "metadata": {},
     "output_type": "execute_result"
    }
   ],
   "source": [
    "results.rsquared,results.rsquared_adj"
   ]
  },
  {
   "cell_type": "code",
   "execution_count": 124,
   "metadata": {},
   "outputs": [
    {
     "name": "stdout",
     "output_type": "stream",
     "text": [
      "                                       OLS Regression Results                                      \n",
      "===================================================================================================\n",
      "Dep. Variable:     windmill_generated_power(kW/h)   R-squared (uncentered):                   0.906\n",
      "Model:                                        OLS   Adj. R-squared (uncentered):              0.906\n",
      "Method:                             Least Squares   F-statistic:                          1.426e+04\n",
      "Date:                            Mon, 24 May 2021   Prob (F-statistic):                        0.00\n",
      "Time:                                    11:20:58   Log-Likelihood:                         -60321.\n",
      "No. Observations:                           28200   AIC:                                  1.207e+05\n",
      "Df Residuals:                               28181   BIC:                                  1.208e+05\n",
      "Df Model:                                      19                                                  \n",
      "Covariance Type:                        nonrobust                                                  \n",
      "=================================================================================================\n",
      "                                    coef    std err          t      P>|t|      [0.025      0.975]\n",
      "-------------------------------------------------------------------------------------------------\n",
      "wind_speed(m/s)                  -0.0030      0.000    -16.554      0.000      -0.003      -0.003\n",
      "atmospheric_temperature(°C)      -0.0021      0.000     -7.204      0.000      -0.003      -0.002\n",
      "shaft_temperature(°C)            -0.0008      0.000     -1.819      0.069      -0.002    6.49e-05\n",
      "blades_angle(°)                  -0.0007      0.000     -2.597      0.009      -0.001      -0.000\n",
      "gearbox_temperature(°C)           0.0007      0.000      2.477      0.013       0.000       0.001\n",
      "engine_temperature(°C)            0.0393      0.002     20.020      0.000       0.035       0.043\n",
      "motor_torque(N-m)                 0.0033   4.16e-05     79.587      0.000       0.003       0.003\n",
      "generator_temperature(°C)        -0.0956      0.002    -51.031      0.000      -0.099      -0.092\n",
      "atmospheric_pressure(Pascal)   8.784e-07   7.04e-08     12.474      0.000     7.4e-07    1.02e-06\n",
      "area_temperature(°C)              0.0772      0.002     40.998      0.000       0.074       0.081\n",
      "windmill_body_temperature(°C)    -0.0009      0.000     -3.730      0.000      -0.001      -0.000\n",
      "wind_direction(°)                 0.0046      0.000     44.508      0.000       0.004       0.005\n",
      "resistance(ohm)                   0.0002   2.97e-05      6.308      0.000       0.000       0.000\n",
      "rotor_torque(N-m)                -0.0004      0.000     -0.908      0.364      -0.001       0.000\n",
      "turbine_status                   -0.0022      0.003     -0.794      0.427      -0.008       0.003\n",
      "cloud_level                       0.1405      0.022      6.262      0.000       0.097       0.185\n",
      "blade_length(m)                   0.0031      0.001      2.547      0.011       0.001       0.005\n",
      "blade_breadth(m)                  1.7811      0.169     10.564      0.000       1.451       2.112\n",
      "windmill_height(m)                0.0023      0.002      1.501      0.133      -0.001       0.005\n",
      "==============================================================================\n",
      "Omnibus:                     3366.068   Durbin-Watson:                   1.982\n",
      "Prob(Omnibus):                  0.000   Jarque-Bera (JB):             6157.088\n",
      "Skew:                           0.792   Prob(JB):                         0.00\n",
      "Kurtosis:                       4.653   Cond. No.                     2.56e+06\n",
      "==============================================================================\n",
      "\n",
      "Notes:\n",
      "[1] R² is computed without centering (uncentered) since the model does not contain a constant.\n",
      "[2] Standard Errors assume that the covariance matrix of the errors is correctly specified.\n",
      "[3] The condition number is large, 2.56e+06. This might indicate that there are\n",
      "strong multicollinearity or other numerical problems.\n"
     ]
    }
   ],
   "source": [
    "print(results.summary())"
   ]
  },
  {
   "cell_type": "code",
   "execution_count": 125,
   "metadata": {},
   "outputs": [],
   "source": [
    "\n",
    "from sklearn.model_selection import train_test_split\n",
    "\n",
    "x_train,x_test,y_train,y_test = train_test_split(x,y,test_size=0.2,random_state=88)"
   ]
  },
  {
   "cell_type": "code",
   "execution_count": 126,
   "metadata": {},
   "outputs": [],
   "source": [
    "from sklearn.linear_model import LinearRegression\n",
    "from sklearn.metrics import mean_squared_error\n",
    "\n",
    "model1 = LinearRegression()\n",
    "result1 = model1.fit(x_train,y_train)\n",
    "\n"
   ]
  },
  {
   "cell_type": "code",
   "execution_count": 127,
   "metadata": {},
   "outputs": [
    {
     "data": {
      "text/plain": [
       "(0.7684484174116655,\n",
       " array([-2.76917741e-03, -2.04564834e-03, -4.99064013e-04, -7.32303054e-04,\n",
       "         5.66786469e-04,  3.50160626e-02,  3.39262320e-03, -9.82849722e-02,\n",
       "         9.35333492e-07,  7.34504880e-02, -7.10403119e-04,  4.55391435e-03,\n",
       "         1.64600237e-04, -5.56865012e-04, -3.69597281e-03,  1.16387653e-01,\n",
       "         3.75040475e-03,  1.08747869e+00, -1.10637454e-03]))"
      ]
     },
     "execution_count": 127,
     "metadata": {},
     "output_type": "execute_result"
    }
   ],
   "source": [
    "result1.intercept_,result1.coef_"
   ]
  },
  {
   "cell_type": "code",
   "execution_count": 128,
   "metadata": {},
   "outputs": [],
   "source": [
    "y_pred = result1.predict(x_test)"
   ]
  },
  {
   "cell_type": "code",
   "execution_count": 129,
   "metadata": {},
   "outputs": [
    {
     "data": {
      "text/html": [
       "<div>\n",
       "<style scoped>\n",
       "    .dataframe tbody tr th:only-of-type {\n",
       "        vertical-align: middle;\n",
       "    }\n",
       "\n",
       "    .dataframe tbody tr th {\n",
       "        vertical-align: top;\n",
       "    }\n",
       "\n",
       "    .dataframe thead th {\n",
       "        text-align: right;\n",
       "    }\n",
       "</style>\n",
       "<table border=\"1\" class=\"dataframe\">\n",
       "  <thead>\n",
       "    <tr style=\"text-align: right;\">\n",
       "      <th></th>\n",
       "      <th>wind_speed(m/s)</th>\n",
       "      <th>atmospheric_temperature(°C)</th>\n",
       "      <th>shaft_temperature(°C)</th>\n",
       "      <th>blades_angle(°)</th>\n",
       "      <th>gearbox_temperature(°C)</th>\n",
       "      <th>engine_temperature(°C)</th>\n",
       "      <th>motor_torque(N-m)</th>\n",
       "      <th>generator_temperature(°C)</th>\n",
       "      <th>atmospheric_pressure(Pascal)</th>\n",
       "      <th>area_temperature(°C)</th>\n",
       "      <th>windmill_body_temperature(°C)</th>\n",
       "      <th>wind_direction(°)</th>\n",
       "      <th>resistance(ohm)</th>\n",
       "      <th>rotor_torque(N-m)</th>\n",
       "      <th>turbine_status</th>\n",
       "      <th>cloud_level</th>\n",
       "      <th>blade_length(m)</th>\n",
       "      <th>blade_breadth(m)</th>\n",
       "      <th>windmill_height(m)</th>\n",
       "    </tr>\n",
       "  </thead>\n",
       "  <tbody>\n",
       "    <tr>\n",
       "      <th>5398</th>\n",
       "      <td>10.101458</td>\n",
       "      <td>0.383727</td>\n",
       "      <td>96.427741</td>\n",
       "      <td>96.347319</td>\n",
       "      <td>38.299252</td>\n",
       "      <td>39.479800</td>\n",
       "      <td>500.000000</td>\n",
       "      <td>35.704772</td>\n",
       "      <td>109862.057371</td>\n",
       "      <td>30.651619</td>\n",
       "      <td>43.571228</td>\n",
       "      <td>306.888883</td>\n",
       "      <td>1165.561166</td>\n",
       "      <td>5.570908</td>\n",
       "      <td>13</td>\n",
       "      <td>0</td>\n",
       "      <td>2.398975</td>\n",
       "      <td>0.234871</td>\n",
       "      <td>23.837191</td>\n",
       "    </tr>\n",
       "    <tr>\n",
       "      <th>8681</th>\n",
       "      <td>94.156634</td>\n",
       "      <td>-99.000000</td>\n",
       "      <td>42.165385</td>\n",
       "      <td>-99.000000</td>\n",
       "      <td>44.856757</td>\n",
       "      <td>42.463783</td>\n",
       "      <td>2478.963944</td>\n",
       "      <td>77.725085</td>\n",
       "      <td>17515.616547</td>\n",
       "      <td>36.492018</td>\n",
       "      <td>43.572298</td>\n",
       "      <td>253.505914</td>\n",
       "      <td>1780.604914</td>\n",
       "      <td>40.905299</td>\n",
       "      <td>9</td>\n",
       "      <td>2</td>\n",
       "      <td>3.767188</td>\n",
       "      <td>0.369246</td>\n",
       "      <td>25.108162</td>\n",
       "    </tr>\n",
       "    <tr>\n",
       "      <th>4110</th>\n",
       "      <td>95.815301</td>\n",
       "      <td>-99.000000</td>\n",
       "      <td>46.219648</td>\n",
       "      <td>3.893377</td>\n",
       "      <td>-19.880615</td>\n",
       "      <td>43.891530</td>\n",
       "      <td>2087.761900</td>\n",
       "      <td>72.119553</td>\n",
       "      <td>-134473.791967</td>\n",
       "      <td>41.888100</td>\n",
       "      <td>45.396832</td>\n",
       "      <td>91.394689</td>\n",
       "      <td>1665.672728</td>\n",
       "      <td>35.312802</td>\n",
       "      <td>8</td>\n",
       "      <td>1</td>\n",
       "      <td>2.211347</td>\n",
       "      <td>0.446666</td>\n",
       "      <td>14.605767</td>\n",
       "    </tr>\n",
       "    <tr>\n",
       "      <th>439</th>\n",
       "      <td>10.117481</td>\n",
       "      <td>2.892564</td>\n",
       "      <td>13.818598</td>\n",
       "      <td>46.718247</td>\n",
       "      <td>-67.544204</td>\n",
       "      <td>11.401441</td>\n",
       "      <td>525.063152</td>\n",
       "      <td>37.996145</td>\n",
       "      <td>-177370.208002</td>\n",
       "      <td>25.449752</td>\n",
       "      <td>14.185988</td>\n",
       "      <td>270.324775</td>\n",
       "      <td>-99.000000</td>\n",
       "      <td>6.153092</td>\n",
       "      <td>14</td>\n",
       "      <td>1</td>\n",
       "      <td>2.413896</td>\n",
       "      <td>0.374666</td>\n",
       "      <td>24.750502</td>\n",
       "    </tr>\n",
       "    <tr>\n",
       "      <th>22169</th>\n",
       "      <td>93.287966</td>\n",
       "      <td>20.209214</td>\n",
       "      <td>39.783993</td>\n",
       "      <td>38.041780</td>\n",
       "      <td>40.615850</td>\n",
       "      <td>41.698236</td>\n",
       "      <td>1084.237927</td>\n",
       "      <td>66.760125</td>\n",
       "      <td>16201.133163</td>\n",
       "      <td>23.641186</td>\n",
       "      <td>42.616762</td>\n",
       "      <td>246.471039</td>\n",
       "      <td>1663.549438</td>\n",
       "      <td>-49.899874</td>\n",
       "      <td>9</td>\n",
       "      <td>1</td>\n",
       "      <td>2.833171</td>\n",
       "      <td>0.493568</td>\n",
       "      <td>26.000269</td>\n",
       "    </tr>\n",
       "    <tr>\n",
       "      <th>...</th>\n",
       "      <td>...</td>\n",
       "      <td>...</td>\n",
       "      <td>...</td>\n",
       "      <td>...</td>\n",
       "      <td>...</td>\n",
       "      <td>...</td>\n",
       "      <td>...</td>\n",
       "      <td>...</td>\n",
       "      <td>...</td>\n",
       "      <td>...</td>\n",
       "      <td>...</td>\n",
       "      <td>...</td>\n",
       "      <td>...</td>\n",
       "      <td>...</td>\n",
       "      <td>...</td>\n",
       "      <td>...</td>\n",
       "      <td>...</td>\n",
       "      <td>...</td>\n",
       "      <td>...</td>\n",
       "    </tr>\n",
       "    <tr>\n",
       "      <th>9959</th>\n",
       "      <td>96.806344</td>\n",
       "      <td>41.972822</td>\n",
       "      <td>45.860305</td>\n",
       "      <td>0.107713</td>\n",
       "      <td>42.278414</td>\n",
       "      <td>43.110856</td>\n",
       "      <td>2023.312239</td>\n",
       "      <td>75.694164</td>\n",
       "      <td>17133.482482</td>\n",
       "      <td>46.612196</td>\n",
       "      <td>46.486979</td>\n",
       "      <td>306.888883</td>\n",
       "      <td>443.453719</td>\n",
       "      <td>35.549464</td>\n",
       "      <td>12</td>\n",
       "      <td>2</td>\n",
       "      <td>2.254034</td>\n",
       "      <td>0.454767</td>\n",
       "      <td>27.455904</td>\n",
       "    </tr>\n",
       "    <tr>\n",
       "      <th>6725</th>\n",
       "      <td>39.263554</td>\n",
       "      <td>9.171581</td>\n",
       "      <td>48.013967</td>\n",
       "      <td>-1.097823</td>\n",
       "      <td>46.575153</td>\n",
       "      <td>45.845401</td>\n",
       "      <td>951.270036</td>\n",
       "      <td>45.441890</td>\n",
       "      <td>131675.501093</td>\n",
       "      <td>39.921316</td>\n",
       "      <td>-99.000000</td>\n",
       "      <td>263.686017</td>\n",
       "      <td>1420.242310</td>\n",
       "      <td>16.128897</td>\n",
       "      <td>6</td>\n",
       "      <td>1</td>\n",
       "      <td>2.254034</td>\n",
       "      <td>0.384416</td>\n",
       "      <td>26.043609</td>\n",
       "    </tr>\n",
       "    <tr>\n",
       "      <th>2286</th>\n",
       "      <td>94.552943</td>\n",
       "      <td>22.450534</td>\n",
       "      <td>43.481978</td>\n",
       "      <td>-99.000000</td>\n",
       "      <td>40.918276</td>\n",
       "      <td>42.700878</td>\n",
       "      <td>1005.239201</td>\n",
       "      <td>66.639833</td>\n",
       "      <td>16229.310621</td>\n",
       "      <td>33.805858</td>\n",
       "      <td>44.008238</td>\n",
       "      <td>357.890297</td>\n",
       "      <td>1663.323244</td>\n",
       "      <td>20.000000</td>\n",
       "      <td>5</td>\n",
       "      <td>2</td>\n",
       "      <td>2.254034</td>\n",
       "      <td>0.452650</td>\n",
       "      <td>-2.348623</td>\n",
       "    </tr>\n",
       "    <tr>\n",
       "      <th>8935</th>\n",
       "      <td>130.826094</td>\n",
       "      <td>12.691384</td>\n",
       "      <td>-2.278266</td>\n",
       "      <td>1.266576</td>\n",
       "      <td>40.002473</td>\n",
       "      <td>43.406137</td>\n",
       "      <td>788.398647</td>\n",
       "      <td>38.070272</td>\n",
       "      <td>411890.732902</td>\n",
       "      <td>31.702485</td>\n",
       "      <td>81.093741</td>\n",
       "      <td>565.263207</td>\n",
       "      <td>1189.026000</td>\n",
       "      <td>12.188750</td>\n",
       "      <td>13</td>\n",
       "      <td>1</td>\n",
       "      <td>4.039844</td>\n",
       "      <td>0.419096</td>\n",
       "      <td>26.392940</td>\n",
       "    </tr>\n",
       "    <tr>\n",
       "      <th>5972</th>\n",
       "      <td>95.892014</td>\n",
       "      <td>17.790906</td>\n",
       "      <td>45.810698</td>\n",
       "      <td>13.419903</td>\n",
       "      <td>46.617896</td>\n",
       "      <td>44.171052</td>\n",
       "      <td>2951.162185</td>\n",
       "      <td>98.540769</td>\n",
       "      <td>19486.018203</td>\n",
       "      <td>42.334862</td>\n",
       "      <td>20.799761</td>\n",
       "      <td>513.579359</td>\n",
       "      <td>1973.613310</td>\n",
       "      <td>48.946718</td>\n",
       "      <td>6</td>\n",
       "      <td>1</td>\n",
       "      <td>3.746463</td>\n",
       "      <td>0.382418</td>\n",
       "      <td>25.671299</td>\n",
       "    </tr>\n",
       "  </tbody>\n",
       "</table>\n",
       "<p>5640 rows × 19 columns</p>\n",
       "</div>"
      ],
      "text/plain": [
       "       wind_speed(m/s)  atmospheric_temperature(°C)  shaft_temperature(°C)  \\\n",
       "5398         10.101458                     0.383727              96.427741   \n",
       "8681         94.156634                   -99.000000              42.165385   \n",
       "4110         95.815301                   -99.000000              46.219648   \n",
       "439          10.117481                     2.892564              13.818598   \n",
       "22169        93.287966                    20.209214              39.783993   \n",
       "...                ...                          ...                    ...   \n",
       "9959         96.806344                    41.972822              45.860305   \n",
       "6725         39.263554                     9.171581              48.013967   \n",
       "2286         94.552943                    22.450534              43.481978   \n",
       "8935        130.826094                    12.691384              -2.278266   \n",
       "5972         95.892014                    17.790906              45.810698   \n",
       "\n",
       "       blades_angle(°)  gearbox_temperature(°C)  engine_temperature(°C)  \\\n",
       "5398         96.347319                38.299252               39.479800   \n",
       "8681        -99.000000                44.856757               42.463783   \n",
       "4110          3.893377               -19.880615               43.891530   \n",
       "439          46.718247               -67.544204               11.401441   \n",
       "22169        38.041780                40.615850               41.698236   \n",
       "...                ...                      ...                     ...   \n",
       "9959          0.107713                42.278414               43.110856   \n",
       "6725         -1.097823                46.575153               45.845401   \n",
       "2286        -99.000000                40.918276               42.700878   \n",
       "8935          1.266576                40.002473               43.406137   \n",
       "5972         13.419903                46.617896               44.171052   \n",
       "\n",
       "       motor_torque(N-m)  generator_temperature(°C)  \\\n",
       "5398          500.000000                  35.704772   \n",
       "8681         2478.963944                  77.725085   \n",
       "4110         2087.761900                  72.119553   \n",
       "439           525.063152                  37.996145   \n",
       "22169        1084.237927                  66.760125   \n",
       "...                  ...                        ...   \n",
       "9959         2023.312239                  75.694164   \n",
       "6725          951.270036                  45.441890   \n",
       "2286         1005.239201                  66.639833   \n",
       "8935          788.398647                  38.070272   \n",
       "5972         2951.162185                  98.540769   \n",
       "\n",
       "       atmospheric_pressure(Pascal)  area_temperature(°C)  \\\n",
       "5398                  109862.057371             30.651619   \n",
       "8681                   17515.616547             36.492018   \n",
       "4110                 -134473.791967             41.888100   \n",
       "439                  -177370.208002             25.449752   \n",
       "22169                  16201.133163             23.641186   \n",
       "...                             ...                   ...   \n",
       "9959                   17133.482482             46.612196   \n",
       "6725                  131675.501093             39.921316   \n",
       "2286                   16229.310621             33.805858   \n",
       "8935                  411890.732902             31.702485   \n",
       "5972                   19486.018203             42.334862   \n",
       "\n",
       "       windmill_body_temperature(°C)  wind_direction(°)  resistance(ohm)  \\\n",
       "5398                       43.571228         306.888883      1165.561166   \n",
       "8681                       43.572298         253.505914      1780.604914   \n",
       "4110                       45.396832          91.394689      1665.672728   \n",
       "439                        14.185988         270.324775       -99.000000   \n",
       "22169                      42.616762         246.471039      1663.549438   \n",
       "...                              ...                ...              ...   \n",
       "9959                       46.486979         306.888883       443.453719   \n",
       "6725                      -99.000000         263.686017      1420.242310   \n",
       "2286                       44.008238         357.890297      1663.323244   \n",
       "8935                       81.093741         565.263207      1189.026000   \n",
       "5972                       20.799761         513.579359      1973.613310   \n",
       "\n",
       "       rotor_torque(N-m)  turbine_status  cloud_level  blade_length(m)  \\\n",
       "5398            5.570908              13            0         2.398975   \n",
       "8681           40.905299               9            2         3.767188   \n",
       "4110           35.312802               8            1         2.211347   \n",
       "439             6.153092              14            1         2.413896   \n",
       "22169         -49.899874               9            1         2.833171   \n",
       "...                  ...             ...          ...              ...   \n",
       "9959           35.549464              12            2         2.254034   \n",
       "6725           16.128897               6            1         2.254034   \n",
       "2286           20.000000               5            2         2.254034   \n",
       "8935           12.188750              13            1         4.039844   \n",
       "5972           48.946718               6            1         3.746463   \n",
       "\n",
       "       blade_breadth(m)  windmill_height(m)  \n",
       "5398           0.234871           23.837191  \n",
       "8681           0.369246           25.108162  \n",
       "4110           0.446666           14.605767  \n",
       "439            0.374666           24.750502  \n",
       "22169          0.493568           26.000269  \n",
       "...                 ...                 ...  \n",
       "9959           0.454767           27.455904  \n",
       "6725           0.384416           26.043609  \n",
       "2286           0.452650           -2.348623  \n",
       "8935           0.419096           26.392940  \n",
       "5972           0.382418           25.671299  \n",
       "\n",
       "[5640 rows x 19 columns]"
      ]
     },
     "execution_count": 129,
     "metadata": {},
     "output_type": "execute_result"
    }
   ],
   "source": [
    "x_test"
   ]
  },
  {
   "cell_type": "code",
   "execution_count": 130,
   "metadata": {},
   "outputs": [
    {
     "data": {
      "text/plain": [
       "array([4.31168496, 7.72295493, 6.35415844, ..., 3.96761372, 6.78534833,\n",
       "       8.57914024])"
      ]
     },
     "execution_count": 130,
     "metadata": {},
     "output_type": "execute_result"
    }
   ],
   "source": [
    "y_pred"
   ]
  },
  {
   "cell_type": "code",
   "execution_count": 131,
   "metadata": {},
   "outputs": [
    {
     "data": {
      "text/plain": [
       "4.126581174514355"
      ]
     },
     "execution_count": 131,
     "metadata": {},
     "output_type": "execute_result"
    }
   ],
   "source": [
    "mean_squared_error(y_test,y_pred)"
   ]
  },
  {
   "cell_type": "code",
   "execution_count": 132,
   "metadata": {},
   "outputs": [
    {
     "data": {
      "text/plain": [
       "tracking_id                         0\n",
       "datetime                            0\n",
       "wind_speed(m/s)                   126\n",
       "atmospheric_temperature(°C)      1427\n",
       "shaft_temperature(°C)               1\n",
       "blades_angle(°)                   106\n",
       "gearbox_temperature(°C)             1\n",
       "engine_temperature(°C)              5\n",
       "motor_torque(N-m)                  11\n",
       "generator_temperature(°C)           5\n",
       "atmospheric_pressure(Pascal)     1151\n",
       "area_temperature(°C)                1\n",
       "windmill_body_temperature(°C)     926\n",
       "wind_direction(°)                2160\n",
       "resistance(ohm)                     0\n",
       "rotor_torque(N-m)                 281\n",
       "turbine_status                      0\n",
       "cloud_level                         0\n",
       "blade_length(m)                  2114\n",
       "blade_breadth(m)                    0\n",
       "windmill_height(m)                255\n",
       "dtype: int64"
      ]
     },
     "execution_count": 132,
     "metadata": {},
     "output_type": "execute_result"
    }
   ],
   "source": [
    "data_test.isnull().sum()"
   ]
  },
  {
   "cell_type": "code",
   "execution_count": 133,
   "metadata": {},
   "outputs": [],
   "source": [
    "# test data preprocessing \n",
    "# turbine status\n",
    "turbine_status_mode = data_test['turbine_status'].mode()\n",
    "data_test.turbine_status.fillna('turbine_status_mode',inplace=True)\n",
    "\n",
    "# cloud level\n",
    "cloud_level_mode = data_test['cloud_level'].mode()\n",
    "data_test.cloud_level.fillna('cloud_level_mode',inplace=True)"
   ]
  },
  {
   "cell_type": "code",
   "execution_count": 134,
   "metadata": {},
   "outputs": [],
   "source": [
    "df2 = data_test.fillna(data_test.mean())"
   ]
  },
  {
   "cell_type": "code",
   "execution_count": 135,
   "metadata": {},
   "outputs": [],
   "source": [
    "# label encoder for turbine status and cloud level\n",
    "from sklearn import preprocessing\n",
    "\n",
    "for x in df2.columns:\n",
    "    if df2[x].dtype=='object':\n",
    "        lbl = preprocessing.LabelEncoder()\n",
    "        lbl.fit(list(df2[x].values))\n",
    "        df2[x]=lbl.transform(list(df2[x].values))\n"
   ]
  },
  {
   "cell_type": "code",
   "execution_count": 136,
   "metadata": {},
   "outputs": [],
   "source": [
    "y_predict = result1.predict(df2.iloc[:,2:])"
   ]
  },
  {
   "cell_type": "code",
   "execution_count": 137,
   "metadata": {},
   "outputs": [
    {
     "data": {
      "text/html": [
       "<div>\n",
       "<style scoped>\n",
       "    .dataframe tbody tr th:only-of-type {\n",
       "        vertical-align: middle;\n",
       "    }\n",
       "\n",
       "    .dataframe tbody tr th {\n",
       "        vertical-align: top;\n",
       "    }\n",
       "\n",
       "    .dataframe thead th {\n",
       "        text-align: right;\n",
       "    }\n",
       "</style>\n",
       "<table border=\"1\" class=\"dataframe\">\n",
       "  <thead>\n",
       "    <tr style=\"text-align: right;\">\n",
       "      <th></th>\n",
       "      <th>wind_speed(m/s)</th>\n",
       "      <th>atmospheric_temperature(°C)</th>\n",
       "      <th>shaft_temperature(°C)</th>\n",
       "      <th>blades_angle(°)</th>\n",
       "      <th>gearbox_temperature(°C)</th>\n",
       "      <th>engine_temperature(°C)</th>\n",
       "      <th>motor_torque(N-m)</th>\n",
       "      <th>generator_temperature(°C)</th>\n",
       "      <th>atmospheric_pressure(Pascal)</th>\n",
       "      <th>area_temperature(°C)</th>\n",
       "      <th>windmill_body_temperature(°C)</th>\n",
       "      <th>wind_direction(°)</th>\n",
       "      <th>resistance(ohm)</th>\n",
       "      <th>rotor_torque(N-m)</th>\n",
       "      <th>turbine_status</th>\n",
       "      <th>cloud_level</th>\n",
       "      <th>blade_length(m)</th>\n",
       "      <th>blade_breadth(m)</th>\n",
       "      <th>windmill_height(m)</th>\n",
       "    </tr>\n",
       "  </thead>\n",
       "  <tbody>\n",
       "    <tr>\n",
       "      <th>0</th>\n",
       "      <td>94.324266</td>\n",
       "      <td>17.641186</td>\n",
       "      <td>89.714193</td>\n",
       "      <td>51.146788</td>\n",
       "      <td>40.460560</td>\n",
       "      <td>39.594734</td>\n",
       "      <td>1073.202715</td>\n",
       "      <td>66.830037</td>\n",
       "      <td>16681.044117</td>\n",
       "      <td>24.004812</td>\n",
       "      <td>43.756693</td>\n",
       "      <td>445.976992</td>\n",
       "      <td>1664.222023</td>\n",
       "      <td>21.912243</td>\n",
       "      <td>8</td>\n",
       "      <td>2</td>\n",
       "      <td>3.185837</td>\n",
       "      <td>0.403965</td>\n",
       "      <td>25.572431</td>\n",
       "    </tr>\n",
       "    <tr>\n",
       "      <th>1</th>\n",
       "      <td>10.088870</td>\n",
       "      <td>13.978119</td>\n",
       "      <td>43.272846</td>\n",
       "      <td>46.516394</td>\n",
       "      <td>40.027788</td>\n",
       "      <td>41.176860</td>\n",
       "      <td>517.436430</td>\n",
       "      <td>37.284163</td>\n",
       "      <td>54283.324683</td>\n",
       "      <td>29.431813</td>\n",
       "      <td>42.728174</td>\n",
       "      <td>499.595287</td>\n",
       "      <td>1165.111992</td>\n",
       "      <td>-35.050093</td>\n",
       "      <td>0</td>\n",
       "      <td>2</td>\n",
       "      <td>3.016603</td>\n",
       "      <td>0.444755</td>\n",
       "      <td>24.371823</td>\n",
       "    </tr>\n",
       "    <tr>\n",
       "      <th>2</th>\n",
       "      <td>347.152090</td>\n",
       "      <td>31.423035</td>\n",
       "      <td>41.076640</td>\n",
       "      <td>26.931602</td>\n",
       "      <td>43.109122</td>\n",
       "      <td>43.439556</td>\n",
       "      <td>1480.716492</td>\n",
       "      <td>70.010762</td>\n",
       "      <td>214812.836175</td>\n",
       "      <td>29.924235</td>\n",
       "      <td>43.256122</td>\n",
       "      <td>245.432231</td>\n",
       "      <td>1667.720491</td>\n",
       "      <td>27.195302</td>\n",
       "      <td>7</td>\n",
       "      <td>2</td>\n",
       "      <td>2.611941</td>\n",
       "      <td>0.387368</td>\n",
       "      <td>27.654677</td>\n",
       "    </tr>\n",
       "    <tr>\n",
       "      <th>3</th>\n",
       "      <td>24.471997</td>\n",
       "      <td>-99.000000</td>\n",
       "      <td>14.375078</td>\n",
       "      <td>66.513953</td>\n",
       "      <td>13.741253</td>\n",
       "      <td>15.577472</td>\n",
       "      <td>887.979475</td>\n",
       "      <td>41.445258</td>\n",
       "      <td>54283.324683</td>\n",
       "      <td>23.886434</td>\n",
       "      <td>13.501595</td>\n",
       "      <td>308.376140</td>\n",
       "      <td>1329.744740</td>\n",
       "      <td>15.245757</td>\n",
       "      <td>10</td>\n",
       "      <td>1</td>\n",
       "      <td>2.866805</td>\n",
       "      <td>0.450478</td>\n",
       "      <td>24.189426</td>\n",
       "    </tr>\n",
       "    <tr>\n",
       "      <th>4</th>\n",
       "      <td>96.997026</td>\n",
       "      <td>33.281836</td>\n",
       "      <td>41.405192</td>\n",
       "      <td>1.843112</td>\n",
       "      <td>121.572907</td>\n",
       "      <td>43.934587</td>\n",
       "      <td>2053.916354</td>\n",
       "      <td>68.007787</td>\n",
       "      <td>16833.546517</td>\n",
       "      <td>35.906889</td>\n",
       "      <td>-99.000000</td>\n",
       "      <td>442.425744</td>\n",
       "      <td>691.408996</td>\n",
       "      <td>34.257024</td>\n",
       "      <td>0</td>\n",
       "      <td>1</td>\n",
       "      <td>3.549672</td>\n",
       "      <td>0.368355</td>\n",
       "      <td>4.885440</td>\n",
       "    </tr>\n",
       "    <tr>\n",
       "      <th>...</th>\n",
       "      <td>...</td>\n",
       "      <td>...</td>\n",
       "      <td>...</td>\n",
       "      <td>...</td>\n",
       "      <td>...</td>\n",
       "      <td>...</td>\n",
       "      <td>...</td>\n",
       "      <td>...</td>\n",
       "      <td>...</td>\n",
       "      <td>...</td>\n",
       "      <td>...</td>\n",
       "      <td>...</td>\n",
       "      <td>...</td>\n",
       "      <td>...</td>\n",
       "      <td>...</td>\n",
       "      <td>...</td>\n",
       "      <td>...</td>\n",
       "      <td>...</td>\n",
       "      <td>...</td>\n",
       "    </tr>\n",
       "    <tr>\n",
       "      <th>12081</th>\n",
       "      <td>-15.039400</td>\n",
       "      <td>18.517204</td>\n",
       "      <td>43.545409</td>\n",
       "      <td>-1.094038</td>\n",
       "      <td>44.550547</td>\n",
       "      <td>44.486619</td>\n",
       "      <td>2424.370244</td>\n",
       "      <td>75.850209</td>\n",
       "      <td>17239.345506</td>\n",
       "      <td>28.424722</td>\n",
       "      <td>42.128526</td>\n",
       "      <td>509.795489</td>\n",
       "      <td>1798.141681</td>\n",
       "      <td>-14.365696</td>\n",
       "      <td>14</td>\n",
       "      <td>2</td>\n",
       "      <td>3.286975</td>\n",
       "      <td>0.407771</td>\n",
       "      <td>20.888674</td>\n",
       "    </tr>\n",
       "    <tr>\n",
       "      <th>12082</th>\n",
       "      <td>97.594116</td>\n",
       "      <td>-99.000000</td>\n",
       "      <td>44.747916</td>\n",
       "      <td>1.750553</td>\n",
       "      <td>43.308176</td>\n",
       "      <td>42.848779</td>\n",
       "      <td>2085.627252</td>\n",
       "      <td>73.091866</td>\n",
       "      <td>17131.448669</td>\n",
       "      <td>50.615296</td>\n",
       "      <td>47.353528</td>\n",
       "      <td>345.705839</td>\n",
       "      <td>1680.245230</td>\n",
       "      <td>-7.062661</td>\n",
       "      <td>3</td>\n",
       "      <td>1</td>\n",
       "      <td>2.201328</td>\n",
       "      <td>0.367823</td>\n",
       "      <td>24.793606</td>\n",
       "    </tr>\n",
       "    <tr>\n",
       "      <th>12083</th>\n",
       "      <td>16.186805</td>\n",
       "      <td>8.109976</td>\n",
       "      <td>43.252012</td>\n",
       "      <td>-0.691090</td>\n",
       "      <td>214.904165</td>\n",
       "      <td>41.177782</td>\n",
       "      <td>788.687177</td>\n",
       "      <td>39.514258</td>\n",
       "      <td>118707.643665</td>\n",
       "      <td>20.983939</td>\n",
       "      <td>41.768478</td>\n",
       "      <td>205.569627</td>\n",
       "      <td>2343.165194</td>\n",
       "      <td>12.331790</td>\n",
       "      <td>8</td>\n",
       "      <td>1</td>\n",
       "      <td>3.728375</td>\n",
       "      <td>0.459887</td>\n",
       "      <td>5.653451</td>\n",
       "    </tr>\n",
       "    <tr>\n",
       "      <th>12084</th>\n",
       "      <td>93.254033</td>\n",
       "      <td>-99.000000</td>\n",
       "      <td>43.841789</td>\n",
       "      <td>-1.171974</td>\n",
       "      <td>41.976913</td>\n",
       "      <td>42.039796</td>\n",
       "      <td>2079.855634</td>\n",
       "      <td>71.482324</td>\n",
       "      <td>17155.269313</td>\n",
       "      <td>29.114305</td>\n",
       "      <td>82.750271</td>\n",
       "      <td>260.578999</td>\n",
       "      <td>1732.883672</td>\n",
       "      <td>26.566581</td>\n",
       "      <td>0</td>\n",
       "      <td>2</td>\n",
       "      <td>2.247676</td>\n",
       "      <td>0.394680</td>\n",
       "      <td>24.591364</td>\n",
       "    </tr>\n",
       "    <tr>\n",
       "      <th>12085</th>\n",
       "      <td>42.607485</td>\n",
       "      <td>13.245828</td>\n",
       "      <td>43.480982</td>\n",
       "      <td>9.258178</td>\n",
       "      <td>132.587960</td>\n",
       "      <td>46.312684</td>\n",
       "      <td>969.733090</td>\n",
       "      <td>46.777642</td>\n",
       "      <td>130018.594173</td>\n",
       "      <td>39.491015</td>\n",
       "      <td>97.070812</td>\n",
       "      <td>308.376140</td>\n",
       "      <td>-99.000000</td>\n",
       "      <td>19.467561</td>\n",
       "      <td>1</td>\n",
       "      <td>2</td>\n",
       "      <td>2.201328</td>\n",
       "      <td>0.490893</td>\n",
       "      <td>21.665001</td>\n",
       "    </tr>\n",
       "  </tbody>\n",
       "</table>\n",
       "<p>12086 rows × 19 columns</p>\n",
       "</div>"
      ],
      "text/plain": [
       "       wind_speed(m/s)  atmospheric_temperature(°C)  shaft_temperature(°C)  \\\n",
       "0            94.324266                    17.641186              89.714193   \n",
       "1            10.088870                    13.978119              43.272846   \n",
       "2           347.152090                    31.423035              41.076640   \n",
       "3            24.471997                   -99.000000              14.375078   \n",
       "4            96.997026                    33.281836              41.405192   \n",
       "...                ...                          ...                    ...   \n",
       "12081       -15.039400                    18.517204              43.545409   \n",
       "12082        97.594116                   -99.000000              44.747916   \n",
       "12083        16.186805                     8.109976              43.252012   \n",
       "12084        93.254033                   -99.000000              43.841789   \n",
       "12085        42.607485                    13.245828              43.480982   \n",
       "\n",
       "       blades_angle(°)  gearbox_temperature(°C)  engine_temperature(°C)  \\\n",
       "0            51.146788                40.460560               39.594734   \n",
       "1            46.516394                40.027788               41.176860   \n",
       "2            26.931602                43.109122               43.439556   \n",
       "3            66.513953                13.741253               15.577472   \n",
       "4             1.843112               121.572907               43.934587   \n",
       "...                ...                      ...                     ...   \n",
       "12081        -1.094038                44.550547               44.486619   \n",
       "12082         1.750553                43.308176               42.848779   \n",
       "12083        -0.691090               214.904165               41.177782   \n",
       "12084        -1.171974                41.976913               42.039796   \n",
       "12085         9.258178               132.587960               46.312684   \n",
       "\n",
       "       motor_torque(N-m)  generator_temperature(°C)  \\\n",
       "0            1073.202715                  66.830037   \n",
       "1             517.436430                  37.284163   \n",
       "2            1480.716492                  70.010762   \n",
       "3             887.979475                  41.445258   \n",
       "4            2053.916354                  68.007787   \n",
       "...                  ...                        ...   \n",
       "12081        2424.370244                  75.850209   \n",
       "12082        2085.627252                  73.091866   \n",
       "12083         788.687177                  39.514258   \n",
       "12084        2079.855634                  71.482324   \n",
       "12085         969.733090                  46.777642   \n",
       "\n",
       "       atmospheric_pressure(Pascal)  area_temperature(°C)  \\\n",
       "0                      16681.044117             24.004812   \n",
       "1                      54283.324683             29.431813   \n",
       "2                     214812.836175             29.924235   \n",
       "3                      54283.324683             23.886434   \n",
       "4                      16833.546517             35.906889   \n",
       "...                             ...                   ...   \n",
       "12081                  17239.345506             28.424722   \n",
       "12082                  17131.448669             50.615296   \n",
       "12083                 118707.643665             20.983939   \n",
       "12084                  17155.269313             29.114305   \n",
       "12085                 130018.594173             39.491015   \n",
       "\n",
       "       windmill_body_temperature(°C)  wind_direction(°)  resistance(ohm)  \\\n",
       "0                          43.756693         445.976992      1664.222023   \n",
       "1                          42.728174         499.595287      1165.111992   \n",
       "2                          43.256122         245.432231      1667.720491   \n",
       "3                          13.501595         308.376140      1329.744740   \n",
       "4                         -99.000000         442.425744       691.408996   \n",
       "...                              ...                ...              ...   \n",
       "12081                      42.128526         509.795489      1798.141681   \n",
       "12082                      47.353528         345.705839      1680.245230   \n",
       "12083                      41.768478         205.569627      2343.165194   \n",
       "12084                      82.750271         260.578999      1732.883672   \n",
       "12085                      97.070812         308.376140       -99.000000   \n",
       "\n",
       "       rotor_torque(N-m)  turbine_status  cloud_level  blade_length(m)  \\\n",
       "0              21.912243               8            2         3.185837   \n",
       "1             -35.050093               0            2         3.016603   \n",
       "2              27.195302               7            2         2.611941   \n",
       "3              15.245757              10            1         2.866805   \n",
       "4              34.257024               0            1         3.549672   \n",
       "...                  ...             ...          ...              ...   \n",
       "12081         -14.365696              14            2         3.286975   \n",
       "12082          -7.062661               3            1         2.201328   \n",
       "12083          12.331790               8            1         3.728375   \n",
       "12084          26.566581               0            2         2.247676   \n",
       "12085          19.467561               1            2         2.201328   \n",
       "\n",
       "       blade_breadth(m)  windmill_height(m)  \n",
       "0              0.403965           25.572431  \n",
       "1              0.444755           24.371823  \n",
       "2              0.387368           27.654677  \n",
       "3              0.450478           24.189426  \n",
       "4              0.368355            4.885440  \n",
       "...                 ...                 ...  \n",
       "12081          0.407771           20.888674  \n",
       "12082          0.367823           24.793606  \n",
       "12083          0.459887            5.653451  \n",
       "12084          0.394680           24.591364  \n",
       "12085          0.490893           21.665001  \n",
       "\n",
       "[12086 rows x 19 columns]"
      ]
     },
     "execution_count": 137,
     "metadata": {},
     "output_type": "execute_result"
    }
   ],
   "source": [
    "df2.iloc[:,2:]"
   ]
  },
  {
   "cell_type": "code",
   "execution_count": 138,
   "metadata": {},
   "outputs": [
    {
     "data": {
      "text/plain": [
       "array([3.53741998, 5.58118522, 3.74318339, ..., 4.57397369, 6.41411479,\n",
       "       6.06179042])"
      ]
     },
     "execution_count": 138,
     "metadata": {},
     "output_type": "execute_result"
    }
   ],
   "source": [
    "y_predict"
   ]
  },
  {
   "cell_type": "code",
   "execution_count": 139,
   "metadata": {},
   "outputs": [],
   "source": [
    "df3= data_test.iloc[:,0:2]"
   ]
  },
  {
   "cell_type": "code",
   "execution_count": 140,
   "metadata": {},
   "outputs": [],
   "source": [
    "df3['windmill_generated_power(kW/h)']=y_predict.tolist()"
   ]
  },
  {
   "cell_type": "code",
   "execution_count": 141,
   "metadata": {},
   "outputs": [],
   "source": [
    "df3.to_csv('Sumbmission.csv')"
   ]
  },
  {
   "cell_type": "code",
   "execution_count": 142,
   "metadata": {},
   "outputs": [
    {
     "data": {
      "image/png": "[encoded data removed]",
      "text/plain": [
       "<Figure size 432x288 with 1 Axes>"
      ]
     },
     "metadata": {
      "needs_background": "light"
     },
     "output_type": "display_data"
    }
   ],
   "source": [
    "from scipy import stats\n",
    "import matplotlib.pyplot as plt\n",
    "res = results.resid\n",
    "probplot = sm.ProbPlot(res,stats.norm,fit=True)\n",
    "fig = probplot.qqplot(line='45')\n",
    "h = plt.title('qq plot -- residual plot')\n",
    "plt.show()"
   ]
  },
  {
   "cell_type": "code",
   "execution_count": 153,
   "metadata": {},
   "outputs": [],
   "source": [
    "fitted_value = results.predict(x)\n",
    "res = results.resid"
   ]
  },
  {
   "cell_type": "code",
   "execution_count": 160,
   "metadata": {},
   "outputs": [
    {
     "data": {
      "text/plain": [
       "<matplotlib.collections.PathCollection at 0x1fdd203de80>"
      ]
     },
     "execution_count": 160,
     "metadata": {},
     "output_type": "execute_result"
    },
    {
     "data": {
      "image/png": "[encoded data removed]",
      "text/plain": [
       "<Figure size 432x288 with 1 Axes>"
      ]
     },
     "metadata": {
      "needs_background": "light"
     },
     "output_type": "display_data"
    }
   ],
   "source": [
    "plt.scatter(fitted_value,res)"
   ]
  },
  {
   "cell_type": "code",
   "execution_count": 162,
   "metadata": {},
   "outputs": [
    {
     "ename": "NameError",
     "evalue": "name 'set_title' is not defined",
     "output_type": "error",
     "traceback": [
      "\u001b[1;31m---------------------------------------------------------------------------\u001b[0m",
      "\u001b[1;31mNameError\u001b[0m                                 Traceback (most recent call last)",
      "\u001b[1;32m<ipython-input-162-86a360243b53>\u001b[0m in \u001b[0;36m<module>\u001b[1;34m\u001b[0m\n\u001b[0;32m      2\u001b[0m \u001b[1;31m#fig, ax = plt.subplots(1,2)\u001b[0m\u001b[1;33m\u001b[0m\u001b[1;33m\u001b[0m\u001b[1;33m\u001b[0m\u001b[0m\n\u001b[0;32m      3\u001b[0m \u001b[0msns\u001b[0m\u001b[1;33m.\u001b[0m\u001b[0mregplot\u001b[0m\u001b[1;33m(\u001b[0m\u001b[0mx\u001b[0m\u001b[1;33m=\u001b[0m\u001b[0mfitted_value\u001b[0m\u001b[1;33m,\u001b[0m \u001b[0my\u001b[0m\u001b[1;33m=\u001b[0m\u001b[0mres\u001b[0m\u001b[1;33m,\u001b[0m \u001b[0mlowess\u001b[0m\u001b[1;33m=\u001b[0m\u001b[1;32mTrue\u001b[0m\u001b[1;33m,\u001b[0m  \u001b[0mline_kws\u001b[0m\u001b[1;33m=\u001b[0m\u001b[1;33m{\u001b[0m\u001b[1;34m'color'\u001b[0m\u001b[1;33m:\u001b[0m \u001b[1;34m'red'\u001b[0m\u001b[1;33m}\u001b[0m\u001b[1;33m)\u001b[0m\u001b[1;33m\u001b[0m\u001b[1;33m\u001b[0m\u001b[0m\n\u001b[1;32m----> 4\u001b[1;33m \u001b[0mset_title\u001b[0m\u001b[1;33m(\u001b[0m\u001b[1;34m'Residuals vs. Predicted Values'\u001b[0m\u001b[1;33m,\u001b[0m \u001b[0mfontsize\u001b[0m\u001b[1;33m=\u001b[0m\u001b[1;36m16\u001b[0m\u001b[1;33m)\u001b[0m\u001b[1;33m\u001b[0m\u001b[1;33m\u001b[0m\u001b[0m\n\u001b[0m\u001b[0;32m      5\u001b[0m \u001b[0mset\u001b[0m\u001b[1;33m(\u001b[0m\u001b[0mxlabel\u001b[0m\u001b[1;33m=\u001b[0m\u001b[1;34m'Predicted'\u001b[0m\u001b[1;33m,\u001b[0m \u001b[0mylabel\u001b[0m\u001b[1;33m=\u001b[0m\u001b[1;34m'Residuals'\u001b[0m\u001b[1;33m)\u001b[0m\u001b[1;33m\u001b[0m\u001b[1;33m\u001b[0m\u001b[0m\n",
      "\u001b[1;31mNameError\u001b[0m: name 'set_title' is not defined"
     ]
    },
    {
     "data": {
      "image/png": "[encoded data removed]",
      "text/plain": [
       "<Figure size 432x288 with 1 Axes>"
      ]
     },
     "metadata": {
      "needs_background": "light"
     },
     "output_type": "display_data"
    }
   ],
   "source": [
    "import seaborn as sns\n",
    "#fig, ax = plt.subplots(1,2)\n",
    "sns.regplot(x=fitted_value, y=res, lowess=True,  line_kws={'color': 'red'})\n",
    "set_title('Residuals vs. Predicted Values', fontsize=16)\n",
    "set(xlabel='Predicted', ylabel='Residuals')"
   ]
  },
  {
   "cell_type": "code",
   "execution_count": 172,
   "metadata": {},
   "outputs": [
    {
     "data": {
      "text/plain": [
       "RandomForestRegressor(n_estimators=500, random_state=0)"
      ]
     },
     "execution_count": 172,
     "metadata": {},
     "output_type": "execute_result"
    }
   ],
   "source": [
    "from sklearn.ensemble import RandomForestRegressor\n",
    "model1 = RandomForestRegressor(n_estimators = 500, random_state = 0)\n",
    "model1.fit(x_train,y_train)"
   ]
  },
  {
   "cell_type": "code",
   "execution_count": 173,
   "metadata": {},
   "outputs": [],
   "source": [
    "y_rf = model1.predict(x_test)"
   ]
  },
  {
   "cell_type": "code",
   "execution_count": 174,
   "metadata": {},
   "outputs": [
    {
     "data": {
      "text/plain": [
       "0.3685179096212892"
      ]
     },
     "execution_count": 174,
     "metadata": {},
     "output_type": "execute_result"
    }
   ],
   "source": [
    "mean_squared_error(y_test,y_rf)"
   ]
  },
  {
   "cell_type": "code",
   "execution_count": 175,
   "metadata": {},
   "outputs": [
    {
     "name": "stdout",
     "output_type": "stream",
     "text": [
      "0.9897982680411973 0.9488116299810895\n"
     ]
    }
   ],
   "source": [
    "# compute with formulas from the theory\n",
    "yhat = model1.predict(x_test)\n",
    "SS_Residual = sum((y_test-yhat)**2)       \n",
    "SS_Total = sum((y-np.mean(y_test))**2)     \n",
    "r_squared = 1 - (float(SS_Residual))/SS_Total\n",
    "adjusted_r_squared = 1 - (1-r_squared)*(len(y)-1)/(len(y_test)-x.shape[1]-1)\n",
    "print(r_squared, adjusted_r_squared)"
   ]
  },
  {
   "cell_type": "code",
   "execution_count": 176,
   "metadata": {},
   "outputs": [],
   "source": [
    "y_rf1 = model1.predict(df2.iloc[:,2:])"
   ]
  },
  {
   "cell_type": "code",
   "execution_count": 177,
   "metadata": {},
   "outputs": [],
   "source": [
    "df3= data_test.iloc[:,0:2]\n",
    "df3['windmill_generated_power(kW/h)']=y_rf1.tolist()\n",
    "df3.to_csv('C:/Users/Mahendra/Videos/Sumbmission2.csv')"
   ]
  },
  {
   "cell_type": "code",
   "execution_count": 181,
   "metadata": {},
   "outputs": [
    {
     "name": "stdout",
     "output_type": "stream",
     "text": [
      "[12:41:10] WARNING: C:/Users/Administrator/workspace/xgboost-win64_release_1.4.0/src/objective/regression_obj.cu:171: reg:linear is now deprecated in favor of reg:squarederror.\n"
     ]
    }
   ],
   "source": [
    "# import xgboost as xg\n",
    "# # Instantiation\n",
    "# xgb_r = xg.XGBRegressor(objective ='reg:linear',\n",
    "#                   n_estimators = 100, seed = 123)\n",
    "  \n",
    "# # Fitting the model\n",
    "# xgb_r.fit(x_train, y_train)\n",
    "  \n",
    "# # Predict the model\n",
    "# pred = xgb_r.predict(x_test)"
   ]
  },
  {
   "cell_type": "code",
   "execution_count": 183,
   "metadata": {},
   "outputs": [],
   "source": [
    "# y_rf2 = xgb_r.predict(df2.iloc[:,2:])\n",
    "# df3= data_test.iloc[:,0:2]\n",
    "# df3['windmill_generated_power(kW/h)']=y_rf2.tolist()\n",
    "# df3.to_csv('C:/Users/Mahendra/Videos/Sumbmission3.csv')"
   ]
  },
  {
   "cell_type": "code",
   "execution_count": null,
   "metadata": {},
   "outputs": [],
   "source": []
  }
 ],
 "metadata": {
  "kernelspec": {
   "display_name": "Python 3",
   "language": "python",
   "name": "python3"
  },
  "language_info": {
   "codemirror_mode": {
    "name": "ipython",
    "version": 3
   },
   "file_extension": ".py",
   "mimetype": "text/x-python",
   "name": "python",
   "nbconvert_exporter": "python",
   "pygments_lexer": "ipython3",
   "version": "3.8.5"
  }
 },
 "nbformat": 4,
 "nbformat_minor": 4
}
